{
  "nbformat": 4,
  "nbformat_minor": 0,
  "metadata": {
    "colab": {
      "provenance": [],
      "collapsed_sections": []
    },
    "kernelspec": {
      "name": "python3",
      "display_name": "Python 3"
    },
    "language_info": {
      "name": "python"
    }
  },
  "cells": [
    {
      "cell_type": "markdown",
      "source": [
        "#Assignment 1"
      ],
      "metadata": {
        "id": "e7vD-p5291Uw"
      }
    },
    {
      "cell_type": "markdown",
      "source": [
        "1. What is indentation error? Why indentation is important? Give one simple example?\n",
        "\n",
        "2. Correct the following code and write the comment where you made the correction?\n",
        "\n",
        "  ```python\n",
        "  class_started = bool(input(\"Hey friend, is class started?: [0-False/1-True]\"))\n",
        "\n",
        "  if class_started:\n",
        "      print(\"Since class started...\")\n",
        "      print(\"Lets concentrate\")\n",
        "  else:\n",
        "      print(\"Since class is not started...\")\n",
        "      print(\"let's revise\")    \n",
        "  ```\n",
        "\n",
        "  **HINT:** Refer your data type conversion class\n",
        "\n",
        "3. Use if else condition to verify that dataype of `input()` method in python is always string.\n",
        "\n",
        "4. Take 3 variables and assign integer values to them. Find the largest variable, by only using the if and else conditions.\n",
        "\n",
        "\n",
        "5. What would be the solution?\n",
        "    1. True\n",
        "    2. False\n",
        "\n",
        "    ```python\n",
        "    a = 6\n",
        "    b = 10\n",
        "    print( not ( not a == 10 or not b == 10) )\n",
        "    ```\n",
        "    \n",
        "6. Find the answer as well as find out the reason behind the result? -\n",
        "    - case 1:\n",
        "        ```python\n",
        "        A = 5.0\n",
        "        B = 10/2\n",
        "        print(A is B)\n",
        "        ```\n",
        "    - case 2:\n",
        "        ```python\n",
        "        A = 5.0\n",
        "        B = int(10/2)\n",
        "        print(A is B)\n",
        "        ```\n",
        "    - case 3:\n",
        "        ```python\n",
        "        A = 5.0\n",
        "        B = float(10/2)\n",
        "        print(A is B)\n",
        "        ```"
      ],
      "metadata": {
        "id": "QvzdxT309heb"
      }
    },
    {
      "cell_type": "code",
      "source": [],
      "metadata": {
        "id": "6rUJOi5N9ips"
      },
      "execution_count": null,
      "outputs": []
    },
    {
      "cell_type": "markdown",
      "source": [
        "#Try to understand the following examples and answer the question based on it -\n",
        "Arithmatic Operators\n",
        "\n",
        "Operation\tMeaning\n",
        "+\taddition\n",
        "-\tsubtraction\n",
        "*\tmultiplication\n",
        "/\ttrue division\n",
        "//\tinteger division\n",
        "%\tthe modulo operator\n",
        "Here +, -, *, / are regular arithmatic operators. Lets look at the // and % operators\n",
        "\n",
        "Usecase or examples -\n",
        "\n",
        "var_a = 5\n",
        "var_b = 25\n",
        "integer_division = var_b // var_a\n",
        "print(f\"integer division: {var_b}/{var_a}={integer_division}\")\n",
        "OUTPUT: integer division: 25/5=5\n",
        "\n",
        "var_a = 3\n",
        "var_b = 25\n",
        "integer_division = var_b // var_a\n",
        "print(f\"integer division: {var_b}/{var_a}={integer_division}\")\n",
        "OUTPUT: integer division: 25/3=8\n",
        "\n",
        "var_a = 5\n",
        "var_b = 25\n",
        "remainder = var_b % var_a\n",
        "print(f\"remainder: {var_b}/{var_a} is {remainder}\")\n",
        "OUTPUT: remainder: 25/5 is 0\n",
        "\n",
        "var_a = 3\n",
        "var_b = 25\n",
        "remainder = var_b % var_a\n",
        "print(f\"remainder: {var_b}/{var_a} is {remainder}\")\n",
        "OUTPUT: remainder: 25/3 is 1"
      ],
      "metadata": {
        "id": "PUWEq6Bj9kdI"
      }
    },
    {
      "cell_type": "code",
      "source": [],
      "metadata": {
        "id": "u7JSXqTE9q4L"
      },
      "execution_count": null,
      "outputs": []
    },
    {
      "cell_type": "markdown",
      "source": [
        "#Answer below questions on the above theory -\n",
        "Write a program that asks the user to enter a number. You should print out a message to the user, either “That number is divisible by either 3 or 5”, or “That number is not divisible by either 3 or 5”. Be sure to consider the data type of the input you are taking in from the user. Use a single if/else block to solve this problem.\n",
        "\n",
        "Take user input for length and width. Then calculate the area of rectangle. Also print as per length and width whether its a square of rectangle.\n",
        "\n",
        "Take two variable radius_1 and radius_2 and calculate the area of circle_1 and circle_2. Also print which circle has large area. If area is equal then print area is equal.\n",
        "\n",
        "Check whether a year is leap year or not. Use nested if...else to solve this problem. A leap year is exactly divisible by 4 except for century years (years ending with 00). The century year is a leap year only if it is perfectly divisible by 400."
      ],
      "metadata": {
        "id": "yovKIK1T9vxz"
      }
    },
    {
      "cell_type": "markdown",
      "source": [
        "#Answer\n",
        "## Que1"
      ],
      "metadata": {
        "id": "tRh9-0LX-Aj_"
      }
    },
    {
      "cell_type": "code",
      "source": [
        "#indentation error are those error occur due to  improper space provided in conditonal statement. \n",
        "\n",
        "#It is neceesary because loops will not work properly in conditonal statement.\n",
        "\n",
        "#Example\n",
        "class_started=False\n",
        "if class_started:\n",
        "print(\"lets concentrate\") #wrong indentation\n",
        "else:\n",
        "  print(\"rewise\")"
      ],
      "metadata": {
        "colab": {
          "base_uri": "https://localhost:8080/",
          "height": 130
        },
        "id": "XfA6xI8L9yDN",
        "outputId": "63bd1cde-eca6-4153-f663-9e2a81085159"
      },
      "execution_count": null,
      "outputs": [
        {
          "output_type": "error",
          "ename": "IndentationError",
          "evalue": "ignored",
          "traceback": [
            "\u001b[0;36m  File \u001b[0;32m\"<ipython-input-1-4ab10e143f68>\"\u001b[0;36m, line \u001b[0;32m8\u001b[0m\n\u001b[0;31m    print(\"lets concentrate\")\u001b[0m\n\u001b[0m        ^\u001b[0m\n\u001b[0;31mIndentationError\u001b[0m\u001b[0;31m:\u001b[0m expected an indented block\n"
          ]
        }
      ]
    },
    {
      "cell_type": "markdown",
      "source": [
        "##Que2"
      ],
      "metadata": {
        "id": "kqwz5_Ki-M3H"
      }
    },
    {
      "cell_type": "code",
      "source": [
        "class_started = int(input(\"Hey friend, is class started?: [0-False/1-True]\"))\n",
        "#use int instead of bool because we want input in integer \n",
        "if class_started == 1: #need  to give proper condition\n",
        "   print(\"Since class started...\")\n",
        "   print(\"Lets concentrate\")\n",
        "else:\n",
        "   print(\"Since class is not started...\")\n",
        "   print(\"let's revise\")"
      ],
      "metadata": {
        "colab": {
          "base_uri": "https://localhost:8080/"
        },
        "id": "MtUucOKz9-n2",
        "outputId": "281cf93d-46b1-46d7-d0b8-978177729abc"
      },
      "execution_count": null,
      "outputs": [
        {
          "output_type": "stream",
          "name": "stdout",
          "text": [
            "Hey friend, is class started?: [0-False/1-True]0\n",
            "Since class is not started...\n",
            "let's revise\n"
          ]
        }
      ]
    },
    {
      "cell_type": "markdown",
      "source": [
        "#Que3"
      ],
      "metadata": {
        "id": "9tNKkoUR_ou_"
      }
    },
    {
      "cell_type": "code",
      "source": [
        "number = input(\"Enter number and hit enter \")\n",
        "print(\"type of number \", type(number))\n",
        "#dataype of input() method in python is always string."
      ],
      "metadata": {
        "colab": {
          "base_uri": "https://localhost:8080/"
        },
        "id": "E9roZvGK-aH7",
        "outputId": "84a95412-f7ba-42f6-d95e-504474453b28"
      },
      "execution_count": null,
      "outputs": [
        {
          "output_type": "stream",
          "name": "stdout",
          "text": [
            "Enter number and hit enter 23\n",
            "type of number  <class 'str'>\n"
          ]
        }
      ]
    },
    {
      "cell_type": "markdown",
      "source": [
        "#Que4"
      ],
      "metadata": {
        "id": "4xHIgBAJCCay"
      }
    },
    {
      "cell_type": "code",
      "source": [
        "a=11\n",
        "b=22\n",
        "c=33\n",
        "\n",
        "if a>b :\n",
        "    if a>c:\n",
        "       print(int(a) ,\"is a larger number\")\n",
        "    else:\n",
        "      print(int(c), \"is larger number\")\n",
        "else:\n",
        "  if b>c:\n",
        "    print(int(b),\"is a larger number\")\n",
        "  else:\n",
        "    print(int(c),\"is a larger number\")"
      ],
      "metadata": {
        "colab": {
          "base_uri": "https://localhost:8080/"
        },
        "id": "x8HxHIsnBnkN",
        "outputId": "9fdae153-75de-4500-b410-e914a5c6dda9"
      },
      "execution_count": 20,
      "outputs": [
        {
          "output_type": "stream",
          "name": "stdout",
          "text": [
            "33 is a larger number\n"
          ]
        }
      ]
    },
    {
      "cell_type": "markdown",
      "source": [
        "#que 5"
      ],
      "metadata": {
        "id": "vD_tAZxJD3eW"
      }
    },
    {
      "cell_type": "code",
      "source": [
        "a = 6\n",
        "b = 10\n",
        "print( not ( not a == 10 or not b == 10) )"
      ],
      "metadata": {
        "colab": {
          "base_uri": "https://localhost:8080/"
        },
        "id": "gYkBKnMwC_iU",
        "outputId": "20c6b936-5ca9-418d-a111-4779cd14aa10"
      },
      "execution_count": null,
      "outputs": [
        {
          "output_type": "stream",
          "name": "stdout",
          "text": [
            "False\n"
          ]
        }
      ]
    },
    {
      "cell_type": "markdown",
      "source": [
        "#Que 6\n",
        "\n",
        "##Case1\n",
        "\n"
      ],
      "metadata": {
        "id": "qLDgi_HeEq9s"
      }
    },
    {
      "cell_type": "code",
      "source": [
        "A = 5.0\n",
        "B = 10/2\n",
        "print(A is B)\n",
        "# 'is' used to find the memory location"
      ],
      "metadata": {
        "colab": {
          "base_uri": "https://localhost:8080/"
        },
        "id": "U4ny9CD4ECZz",
        "outputId": "b6ce2277-800b-40a2-cff0-c90fe4efc8d2"
      },
      "execution_count": null,
      "outputs": [
        {
          "output_type": "stream",
          "name": "stdout",
          "text": [
            "False\n"
          ]
        }
      ]
    },
    {
      "cell_type": "markdown",
      "source": [
        "##Case2"
      ],
      "metadata": {
        "id": "TX1v4SBSFJdz"
      }
    },
    {
      "cell_type": "code",
      "source": [
        "A = 5.0\n",
        "B = int(10/2)\n",
        "print(A is B)\n",
        "# 'is' used to find the memory location "
      ],
      "metadata": {
        "colab": {
          "base_uri": "https://localhost:8080/"
        },
        "id": "rbZEIJq6E0T6",
        "outputId": "73fb8f8c-52b2-4ada-8c1b-328b45e6b200"
      },
      "execution_count": null,
      "outputs": [
        {
          "output_type": "stream",
          "name": "stdout",
          "text": [
            "False\n"
          ]
        }
      ]
    },
    {
      "cell_type": "markdown",
      "source": [
        "##case3"
      ],
      "metadata": {
        "id": "NWV8BWHSFfKN"
      }
    },
    {
      "cell_type": "code",
      "source": [
        "  A = 5.0\n",
        "  B = float(10/2)\n",
        "  print(A is B)\n",
        "  # Even A and B gives integer value it doesnt matter because \"is\" used to find out memory location"
      ],
      "metadata": {
        "colab": {
          "base_uri": "https://localhost:8080/"
        },
        "id": "-xJXH756FPRu",
        "outputId": "5eb0aff8-bd15-4b60-b784-2ffd7aa71bcb"
      },
      "execution_count": null,
      "outputs": [
        {
          "output_type": "stream",
          "name": "stdout",
          "text": [
            "False\n"
          ]
        }
      ]
    },
    {
      "cell_type": "markdown",
      "source": [
        "#Que 7"
      ],
      "metadata": {
        "id": "dlXIWFthJ2ZI"
      }
    },
    {
      "cell_type": "code",
      "source": [
        "a=int(input(\"Take a number:\"))\n",
        "if a % 3== 0 or a % 5== 0:\n",
        "  print(\"That number is divisible by either 3 or 5\")\n",
        "else:\n",
        "  print(\"That number is not divisible by either 3 or 5 \")"
      ],
      "metadata": {
        "colab": {
          "base_uri": "https://localhost:8080/"
        },
        "id": "HD3H5M1WFq0W",
        "outputId": "49476acc-aba6-47b3-84e5-6fd4aec28fe9"
      },
      "execution_count": null,
      "outputs": [
        {
          "output_type": "stream",
          "name": "stdout",
          "text": [
            "Take a number:34\n",
            "That number is not divisible by either 3 or 5 \n"
          ]
        }
      ]
    },
    {
      "cell_type": "markdown",
      "source": [
        "#Que 8"
      ],
      "metadata": {
        "id": "EqDovq4fJ8xK"
      }
    },
    {
      "cell_type": "code",
      "source": [
        "length=int(input(\"length is:\"))\n",
        "breadth=int(input(\"breadth is:\"))\n",
        "if length==breadth:\n",
        "  print(\"It is square\")\n",
        "  print(f\"area of square is:{length*breadth}\")\n",
        "else:\n",
        "  print(\"It is rectangle\")\n",
        "  print(f\"area of rectangle is:{length*breadth}\")"
      ],
      "metadata": {
        "colab": {
          "base_uri": "https://localhost:8080/"
        },
        "id": "2beirAmsHuoS",
        "outputId": "294e9f21-339a-4323-a394-e66cc6ff6a6e"
      },
      "execution_count": null,
      "outputs": [
        {
          "output_type": "stream",
          "name": "stdout",
          "text": [
            "length is:34\n",
            "breadth is:34\n",
            "It is square\n",
            "area of square is:1156\n"
          ]
        }
      ]
    },
    {
      "cell_type": "markdown",
      "source": [
        "#Que9"
      ],
      "metadata": {
        "id": "k4VwKR_fnOf8"
      }
    },
    {
      "cell_type": "code",
      "source": [
        "radius_1=int(input(\"radius is:\"))\n",
        "radius_2=int(input(\"radius is:\"))\n",
        "if 3.14*(radius_1)**2>3.14*(radius_2)**2:\n",
        "  print(f\"area of circle_1 is larger and is equal to {3.14*(radius_1)}\")\n",
        "else:\n",
        "   print(f\"area of circle_2 is larger and is equal to {3.14*(radius_2)}\")\n",
        "\n"
      ],
      "metadata": {
        "colab": {
          "base_uri": "https://localhost:8080/"
        },
        "id": "uIHMsbA6I13n",
        "outputId": "a40aa048-7f6b-4ac2-e121-f39fb6f4b0f3"
      },
      "execution_count": null,
      "outputs": [
        {
          "output_type": "stream",
          "name": "stdout",
          "text": [
            "radius is:5\n",
            "radius is:6\n",
            "area of circle_2 is larger and is equal to 18.84\n"
          ]
        }
      ]
    },
    {
      "cell_type": "markdown",
      "source": [
        "#Que 10"
      ],
      "metadata": {
        "id": "7rIrtAcgnEFL"
      }
    },
    {
      "cell_type": "code",
      "source": [
        "year = int(input(\"Enter the year : \"))\n",
        "if (year % 4) == 0:\n",
        "    if (year % 100) == 0:\n",
        "        if (year % 400) == 0:\n",
        "            print(\"The year is a leap year!\")\n",
        "        else:\n",
        "            print(\"The year is a not leap year!\")\n",
        "    else:\n",
        "        print(\"The year is a leap year!\")\n",
        "else:\n",
        "    print(\"The year is not a leap year!\")"
      ],
      "metadata": {
        "id": "mAQQg5W_irjQ",
        "colab": {
          "base_uri": "https://localhost:8080/"
        },
        "outputId": "63a46c26-0331-4c92-8872-00bae4d11214"
      },
      "execution_count": 24,
      "outputs": [
        {
          "output_type": "stream",
          "name": "stdout",
          "text": [
            "Enter the year : 3000\n",
            "The year is a not leap year!\n"
          ]
        }
      ]
    },
    {
      "cell_type": "code",
      "source": [
        "\n"
      ],
      "metadata": {
        "id": "Zec2AblLqh50"
      },
      "execution_count": 29,
      "outputs": []
    },
    {
      "cell_type": "code",
      "source": [],
      "metadata": {
        "id": "ao-3Dkso8pkk"
      },
      "execution_count": 10,
      "outputs": []
    },
    {
      "cell_type": "code",
      "source": [
        "\n"
      ],
      "metadata": {
        "id": "Wfb5CfBW8r7W"
      },
      "execution_count": 24,
      "outputs": []
    },
    {
      "cell_type": "code",
      "source": [],
      "metadata": {
        "id": "6IUayv6hb0co"
      },
      "execution_count": 24,
      "outputs": []
    },
    {
      "cell_type": "code",
      "source": [],
      "metadata": {
        "id": "5IDTR_NhdM-O"
      },
      "execution_count": null,
      "outputs": []
    }
  ]
}